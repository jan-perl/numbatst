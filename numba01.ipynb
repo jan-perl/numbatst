{
 "cells": [
  {
   "cell_type": "markdown",
   "metadata": {},
   "source": [
    "This workbook runs the same code several times, and times the result\n",
    " - interpreted python\n",
    " - compiled cuda python 1 CPU core\n",
    " - compiled cuda python all CPU cores\n",
    " - compiled cuda python GPU, vectorize\n",
    " - compiled cuda python GPU, guvectorize, or njit\n",
    " current vector size uses 12 Gb in total\n",
    " \n",
    " The interpreted python is run on a smaller sample, in order to reduce run times\n",
    " the vectorise version can only process 1/10 of the data, as all needs to be stored on the GPU.\n",
    " My GPU only as 2Gb memory, so vectorize does not work for this sample data"
   ]
  },
  {
   "cell_type": "code",
   "execution_count": 1,
   "metadata": {},
   "outputs": [],
   "source": [
    "vec_size = 1000000000"
   ]
  },
  {
   "cell_type": "code",
   "execution_count": 2,
   "metadata": {},
   "outputs": [
    {
     "name": "stdout",
     "output_type": "stream",
     "text": [
      "463.83404335001615\n",
      "291968\n"
     ]
    }
   ],
   "source": [
    "import numpy as np\n",
    "import resource\n",
    "from timeit import default_timer as timer\n",
    "\n",
    "def pow(a, b, c):\n",
    "  for i in range(a.size):\n",
    "     c[i] = a[i] ** b[i]\n",
    "\n",
    "def main():\n",
    "  vec_div=50\n",
    "  vec_all = int(vec_size/vec_div)\n",
    "\n",
    "  a = b = np.array(np.random.sample(vec_all), dtype=np.float32)\n",
    "  c = np.zeros(vec_all, dtype=np.float32)\n",
    "\n",
    "  start = timer()\n",
    "  pow(a, b, c)\n",
    "  duration = (timer() - start)*vec_div\n",
    "  \n",
    "  print(duration)\n",
    "  usage= resource.getrusage(resource.RUSAGE_SELF)\n",
    "  print(usage.ru_maxrss)\n",
    "\n",
    "if __name__ == '__main__':\n",
    "  main()"
   ]
  },
  {
   "cell_type": "code",
   "execution_count": 3,
   "metadata": {},
   "outputs": [
    {
     "name": "stdout",
     "output_type": "stream",
     "text": [
      "name = b'Quadro P620'\n",
      "maxThreadsPerBlock = 1024\n",
      "maxBlockDimX = 1024\n",
      "maxBlockDimY = 1024\n",
      "maxBlockDimZ = 64\n",
      "maxGridDimX = 2147483647\n",
      "maxGridDimY = 65535\n",
      "maxGridDimZ = 65535\n",
      "maxSharedMemoryPerBlock = 49152\n",
      "asyncEngineCount = 2\n",
      "canMapHostMemory = 1\n",
      "multiProcessorCount = 4\n",
      "warpSize = 32\n",
      "unifiedAddressing = 1\n",
      "pciBusID = 1\n",
      "pciDeviceID = 0\n"
     ]
    }
   ],
   "source": [
    "from numba import cuda\n",
    "my_gpu=cuda.get_current_device()\n",
    "gpu = cuda.get_current_device()\n",
    "print(\"name = %s\" % gpu.name)\n",
    "print(\"maxThreadsPerBlock = %s\" % str(gpu.MAX_THREADS_PER_BLOCK))\n",
    "print(\"maxBlockDimX = %s\" % str(gpu.MAX_BLOCK_DIM_X))\n",
    "print(\"maxBlockDimY = %s\" % str(gpu.MAX_BLOCK_DIM_Y))\n",
    "print(\"maxBlockDimZ = %s\" % str(gpu.MAX_BLOCK_DIM_Z))\n",
    "print(\"maxGridDimX = %s\" % str(gpu.MAX_GRID_DIM_X))\n",
    "print(\"maxGridDimY = %s\" % str(gpu.MAX_GRID_DIM_Y))\n",
    "print(\"maxGridDimZ = %s\" % str(gpu.MAX_GRID_DIM_Z))\n",
    "print(\"maxSharedMemoryPerBlock = %s\" % str(gpu.MAX_SHARED_MEMORY_PER_BLOCK))\n",
    "print(\"asyncEngineCount = %s\" % str(gpu.ASYNC_ENGINE_COUNT))\n",
    "print(\"canMapHostMemory = %s\" % str(gpu.CAN_MAP_HOST_MEMORY))\n",
    "print(\"multiProcessorCount = %s\" % str(gpu.MULTIPROCESSOR_COUNT))\n",
    "print(\"warpSize = %s\" % str(gpu.WARP_SIZE))\n",
    "print(\"unifiedAddressing = %s\" % str(gpu.UNIFIED_ADDRESSING))\n",
    "print(\"pciBusID = %s\" % str(gpu.PCI_BUS_ID))\n",
    "print(\"pciDeviceID = %s\" % str(gpu.PCI_DEVICE_ID))"
   ]
  },
  {
   "cell_type": "code",
   "execution_count": 4,
   "metadata": {},
   "outputs": [
    {
     "name": "stdout",
     "output_type": "stream",
     "text": [
      "3.653465008999774\n",
      "16.907634236999\n",
      "11945516\n"
     ]
    }
   ],
   "source": [
    "import numpy as np\n",
    "from timeit import default_timer as timer\n",
    "from numba import vectorize\n",
    "\n",
    "@vectorize(['float32(float32, float32)'], target='parallel')\n",
    "def powp(a, b):\n",
    "  return a ** b\n",
    "\n",
    "@vectorize(['float32(float32, float32)'], target='cpu')\n",
    "def powc(a, b):\n",
    "  return a ** b\n",
    "\n",
    "\n",
    "def main():\n",
    "\n",
    "  a = b = np.array(np.random.sample(vec_size), dtype=np.float32)\n",
    "  c = np.zeros(vec_size, dtype=np.float32)\n",
    "\n",
    "  start = timer()\n",
    "  c = powp(a, b)\n",
    "  duration = timer() - start\n",
    "\n",
    "  print(duration)\n",
    "\n",
    "  start = timer()\n",
    "  c = powc(a, b)\n",
    "  duration = timer() - start\n",
    "\n",
    "  print(duration)\n",
    "  usage= resource.getrusage(resource.RUSAGE_SELF)\n",
    "  print(usage.ru_maxrss)\n",
    "\n",
    "if __name__ == '__main__':\n",
    "  main()"
   ]
  },
  {
   "cell_type": "code",
   "execution_count": 5,
   "metadata": {},
   "outputs": [
    {
     "name": "stdout",
     "output_type": "stream",
     "text": [
      "4.3160974599959445\n",
      "11945516\n"
     ]
    }
   ],
   "source": [
    "import numpy as np\n",
    "from timeit import default_timer as timer\n",
    "from numba import vectorize,guvectorize,jit,njit\n",
    "from numba import cuda,float32\n",
    "\n",
    "@vectorize(['float32(float32, float32)'], target='cuda')\n",
    "def powv(a, b):\n",
    "  return a ** b\n",
    "\n",
    "def main():\n",
    "\n",
    "  vec_div=10\n",
    "  vec_all = int(vec_size/vec_div)\n",
    "\n",
    "  a = b = np.array(np.random.sample(vec_all), dtype=np.float32)\n",
    "  c = np.zeros(vec_all, dtype=np.float32)\n",
    "\n",
    "  start = timer()\n",
    "  c = powv(a, b)\n",
    "  duration = (timer() - start)*vec_div\n",
    "\n",
    "  print(duration)\n",
    "  usage= resource.getrusage(resource.RUSAGE_SELF)\n",
    "  print(usage.ru_maxrss)    \n",
    "\n",
    "if __name__ == '__main__':\n",
    "  main()"
   ]
  },
  {
   "cell_type": "code",
   "execution_count": 6,
   "metadata": {},
   "outputs": [
    {
     "name": "stdout",
     "output_type": "stream",
     "text": [
      "16.74205530099971\n",
      "16.387648851999984\n",
      "11966080\n"
     ]
    }
   ],
   "source": [
    "import numpy as np\n",
    "from timeit import default_timer as timer\n",
    "from numba import vectorize,guvectorize,jit,njit\n",
    "from numba import cuda,float32\n",
    "\n",
    "@guvectorize([(float32[:], float32[:], float32[:])], '(n),(n)->(n)')\n",
    "def powg(x, y, res):\n",
    "    for i in range(x.shape[0]):\n",
    "        res[i] = x[i] ** y[i]\n",
    "\n",
    "#@njit([(float32[:], float32[:], float32[:])],parallel = True,fastmath = True)\n",
    "@njit([(float32[:], float32[:], float32[:])])\n",
    "def pown(x, y, res):\n",
    "    for i in range(x.shape[0]):\n",
    "        res[i] = x[i] ** y[i]\n",
    "\n",
    "def main():\n",
    "\n",
    "  a = b = np.array(np.random.sample(vec_size), dtype=np.float32)\n",
    "  c = np.zeros(vec_size, dtype=np.float32)\n",
    "\n",
    "  start = timer()\n",
    "  powg(a, b,c)\n",
    "  duration = timer() - start\n",
    "  print(duration)\n",
    "  \n",
    "  start = timer()\n",
    "  pown(a, b,c)\n",
    "  duration = timer() - start\n",
    "\n",
    "  print(duration)\n",
    "  usage= resource.getrusage(resource.RUSAGE_SELF)\n",
    "  print(usage.ru_maxrss)    \n",
    "\n",
    "if __name__ == '__main__':\n",
    "  main()"
   ]
  },
  {
   "cell_type": "code",
   "execution_count": null,
   "metadata": {},
   "outputs": [],
   "source": []
  }
 ],
 "metadata": {
  "kernelspec": {
   "display_name": "Python 3",
   "language": "python",
   "name": "python3"
  },
  "language_info": {
   "codemirror_mode": {
    "name": "ipython",
    "version": 3
   },
   "file_extension": ".py",
   "mimetype": "text/x-python",
   "name": "python",
   "nbconvert_exporter": "python",
   "pygments_lexer": "ipython3",
   "version": "3.6.8"
  }
 },
 "nbformat": 4,
 "nbformat_minor": 2
}
